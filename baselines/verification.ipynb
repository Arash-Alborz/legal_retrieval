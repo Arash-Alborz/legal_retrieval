{
 "cells": [
  {
   "cell_type": "code",
   "execution_count": 1,
   "id": "d54ad464",
   "metadata": {},
   "outputs": [
    {
     "name": "stdout",
     "output_type": "stream",
     "text": [
      "All query IDs from CSV are present in BM25 ranks.\n",
      "All queries have 22417 ranked documents.\n",
      "No duplicate article IDs in any query ranking.\n"
     ]
    }
   ],
   "source": [
    "import json\n",
    "import pandas as pd\n",
    "\n",
    "# -------- CONFIG --------\n",
    "LANG = \"nl\"  # or \"nl\"\n",
    "QUERY_PATH = f\"preprocessed_data/queries_{LANG}_clean.csv\"\n",
    "BM25_RANK_PATH = f\"ranks/bm25_ranked_results_{LANG}.json\"\n",
    "EXPECTED_NUM_DOCS = 22417  # change this if corpus size is different\n",
    "# ------------------------\n",
    "\n",
    "# Load query IDs\n",
    "df_queries = pd.read_csv(QUERY_PATH)\n",
    "query_ids = set(df_queries[\"id\"].astype(str))\n",
    "\n",
    "# Load BM25 ranks\n",
    "with open(BM25_RANK_PATH, encoding=\"utf-8\") as f:\n",
    "    bm25_ranks = json.load(f)\n",
    "\n",
    "bm25_query_ids = set(bm25_ranks.keys())\n",
    "\n",
    "# --- CHECK 1: All queries present ---\n",
    "missing_qids = query_ids - bm25_query_ids\n",
    "extra_qids = bm25_query_ids - query_ids\n",
    "\n",
    "if missing_qids:\n",
    "    print(f\"Missing query IDs in BM25 output: {missing_qids}\")\n",
    "else:\n",
    "    print(\"All query IDs from CSV are present in BM25 ranks.\")\n",
    "\n",
    "if extra_qids:\n",
    "    print(f\"Extra query IDs in BM25 output not in CSV: {extra_qids}\")\n",
    "\n",
    "# --- CHECK 2: All rankings contain all expected docs ---\n",
    "incomplete = []\n",
    "duplicates = []\n",
    "\n",
    "for qid, doc_ids in bm25_ranks.items():\n",
    "    if len(doc_ids) != EXPECTED_NUM_DOCS:\n",
    "        incomplete.append((qid, len(doc_ids)))\n",
    "    if len(set(doc_ids)) != len(doc_ids):\n",
    "        duplicates.append(qid)\n",
    "\n",
    "if not incomplete:\n",
    "    print(f\"All queries have {EXPECTED_NUM_DOCS} ranked documents.\")\n",
    "else:\n",
    "    print(f\"Some queries have incomplete rankings:\")\n",
    "    for qid, count in incomplete:\n",
    "        print(f\"   - Query {qid} has {count} documents\")\n",
    "\n",
    "if not duplicates:\n",
    "    print(\"No duplicate article IDs in any query ranking.\")\n",
    "else:\n",
    "    print(f\"Duplicate article IDs found in queries: {duplicates}\")"
   ]
  }
 ],
 "metadata": {
  "kernelspec": {
   "display_name": "llm_legal_document_retrieval",
   "language": "python",
   "name": "python3"
  },
  "language_info": {
   "codemirror_mode": {
    "name": "ipython",
    "version": 3
   },
   "file_extension": ".py",
   "mimetype": "text/x-python",
   "name": "python",
   "nbconvert_exporter": "python",
   "pygments_lexer": "ipython3",
   "version": "3.10.16"
  }
 },
 "nbformat": 4,
 "nbformat_minor": 5
}
