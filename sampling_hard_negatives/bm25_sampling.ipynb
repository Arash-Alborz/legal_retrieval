{
 "cells": [
  {
   "cell_type": "code",
   "execution_count": null,
   "id": "179e55fb",
   "metadata": {},
   "outputs": [
    {
     "name": "stdout",
     "output_type": "stream",
     "text": [
      "\n",
      "🔍 Processing language: FR\n"
     ]
    },
    {
     "name": "stderr",
     "output_type": "stream",
     "text": [
      "100%|██████████| 190/190 [00:13<00:00, 14.30it/s]\n"
     ]
    },
    {
     "name": "stdout",
     "output_type": "stream",
     "text": [
      "✅ BM25 sampling completed for FR and saved to data/bm25_sampling/bm25_with_scores_and_ranks_fr.jsonl\n",
      "\n",
      "🔍 Processing language: NL\n"
     ]
    },
    {
     "name": "stderr",
     "output_type": "stream",
     "text": [
      "100%|██████████| 190/190 [00:12<00:00, 15.08it/s]"
     ]
    },
    {
     "name": "stdout",
     "output_type": "stream",
     "text": [
      "✅ BM25 sampling completed for NL and saved to data/bm25_sampling/bm25_with_scores_and_ranks_nl.jsonl\n"
     ]
    },
    {
     "name": "stderr",
     "output_type": "stream",
     "text": [
      "\n"
     ]
    }
   ],
   "source": [
    "from datasets import load_from_disk\n",
    "from rank_bm25 import BM25Okapi\n",
    "from tqdm import tqdm\n",
    "import json\n",
    "import os\n",
    "from nltk.tokenize.toktok import ToktokTokenizer\n",
    "\n",
    "# Initialize tokenizer\n",
    "tokenizer = ToktokTokenizer()\n",
    "\n",
    "# Languages to process\n",
    "languages = [\"fr\", \"nl\"]\n",
    "\n",
    "for lang in languages:\n",
    "    print(f\"\\n🔍 Processing language: {lang.upper()}\")\n",
    "\n",
    "    # Load cleaned datasets\n",
    "    corpus = load_from_disk(\"../data_processing/data/cleaned_corpus_ds/cleaned_corpus\")[lang]\n",
    "    test_queries = load_from_disk(\"../data_processing/data/cleaned_queries_ds/cleaned_test_queries\")[lang]\n",
    "\n",
    "    # Prepare corpus documents and IDs\n",
    "    corpus_docs = [doc['article'] for doc in corpus]\n",
    "    corpus_ids = [str(doc['id']) for doc in corpus]\n",
    "\n",
    "    # Tokenize corpus\n",
    "    tokenized_corpus = [tokenizer.tokenize(doc.lower()) for doc in corpus_docs]\n",
    "    bm25 = BM25Okapi(tokenized_corpus)\n",
    "\n",
    "    # Prepare output\n",
    "    output = []\n",
    "\n",
    "    for query in tqdm(test_queries):\n",
    "        query_id = query['id']\n",
    "        query_text = query['question']\n",
    "\n",
    "        relevant_ids = set(str(id_.strip()) for id_ in query['article_ids'].split(\",\") if id_.strip())\n",
    "        num_relevant = len(relevant_ids)\n",
    "        num_negatives_needed = 100\n",
    "\n",
    "        tokenized_query = tokenizer.tokenize(query_text.lower())\n",
    "        bm25_scores = bm25.get_scores(tokenized_query)\n",
    "\n",
    "        scored_docs = [\n",
    "            {\"doc_id\": corpus_ids[idx], \"score\": float(bm25_scores[idx]), \"rank\": None}\n",
    "            for idx in range(len(bm25_scores))\n",
    "        ]\n",
    "        scored_docs = sorted(scored_docs, key=lambda x: x[\"score\"], reverse=True)[:500]\n",
    "\n",
    "        for final_rank, doc in enumerate(scored_docs):\n",
    "            doc[\"rank\"] = final_rank + 1\n",
    "\n",
    "        hard_negatives = []\n",
    "        for doc in scored_docs:\n",
    "            if str(doc[\"doc_id\"]) not in relevant_ids:\n",
    "                hard_negatives.append(doc)\n",
    "            if len(hard_negatives) >= num_negatives_needed:\n",
    "                break\n",
    "\n",
    "        output.append({\n",
    "            \"query_id\": query_id,\n",
    "            \"query_text\": query_text,\n",
    "            \"relevant_ids\": list(relevant_ids),\n",
    "            \"bm25_ranked_list\": scored_docs,\n",
    "            \"hard_negatives\": hard_negatives\n",
    "        })\n",
    "\n",
    "    # Save JSONL output\n",
    "    os.makedirs(\"data/bm25_sampling\", exist_ok=True)\n",
    "    output_path = f\"data/bm25_sampling/bm25_with_scores_and_ranks_{lang}.jsonl\"\n",
    "    with open(output_path, \"w\", encoding=\"utf-8\") as f:\n",
    "        for entry in output:\n",
    "            f.write(json.dumps(entry, ensure_ascii=False) + \"\\n\")\n",
    "\n",
    "    print(f\"BM25 sampling completed for {lang.upper()} and saved to {output_path}\")\n"
   ]
  },
  {
   "cell_type": "code",
   "execution_count": 11,
   "id": "29b9306d",
   "metadata": {},
   "outputs": [
    {
     "name": "stdout",
     "output_type": "stream",
     "text": [
      "Total queries: 190\n",
      "Min hard negatives: 100\n",
      "Max hard negatives: 100\n",
      "Average hard negatives: 100.00\n",
      "Queries with < 100 hard negatives: 0\n"
     ]
    }
   ],
   "source": [
    "import json\n",
    "\n",
    "file_path = \"data/bm25_sampling/bm25_with_scores_and_ranks_fr.jsonl\"\n",
    "\n",
    "lengths = []\n",
    "\n",
    "with open(file_path, \"r\", encoding=\"utf-8\") as f:\n",
    "    for line in f:\n",
    "        entry = json.loads(line)\n",
    "        num_negatives = len(entry[\"hard_negatives\"])\n",
    "        lengths.append(num_negatives)\n",
    "\n",
    "# Summary\n",
    "print(f\"Total queries: {len(lengths)}\")\n",
    "print(f\"Min hard negatives: {min(lengths)}\")\n",
    "print(f\"Max hard negatives: {max(lengths)}\")\n",
    "print(f\"Average hard negatives: {sum(lengths)/len(lengths):.2f}\")\n",
    "\n",
    "# Optional: count how many are not 100\n",
    "not_full = sum(1 for x in lengths if x < 100)\n",
    "print(f\"Queries with < 100 hard negatives: {not_full}\")"
   ]
  },
  {
   "cell_type": "code",
   "execution_count": 12,
   "id": "a679a404",
   "metadata": {},
   "outputs": [
    {
     "name": "stdout",
     "output_type": "stream",
     "text": [
      "Total queries: 190\n",
      "Min hard negatives: 100\n",
      "Max hard negatives: 100\n",
      "Average hard negatives: 100.00\n",
      "Queries with < 100 hard negatives: 0\n"
     ]
    }
   ],
   "source": [
    "import json\n",
    "\n",
    "file_path = \"data/bm25_sampling/bm25_with_scores_and_ranks_nl.jsonl\"\n",
    "\n",
    "lengths = []\n",
    "\n",
    "with open(file_path, \"r\", encoding=\"utf-8\") as f:\n",
    "    for line in f:\n",
    "        entry = json.loads(line)\n",
    "        num_negatives = len(entry[\"hard_negatives\"])\n",
    "        lengths.append(num_negatives)\n",
    "\n",
    "# Summary\n",
    "print(f\"Total queries: {len(lengths)}\")\n",
    "print(f\"Min hard negatives: {min(lengths)}\")\n",
    "print(f\"Max hard negatives: {max(lengths)}\")\n",
    "print(f\"Average hard negatives: {sum(lengths)/len(lengths):.2f}\")\n",
    "\n",
    "# Optional: count how many are not 100\n",
    "not_full = sum(1 for x in lengths if x < 100)\n",
    "print(f\"Queries with < 100 hard negatives: {not_full}\")"
   ]
  },
  {
   "cell_type": "code",
   "execution_count": 13,
   "id": "640e544a",
   "metadata": {},
   "outputs": [
    {
     "name": "stdout",
     "output_type": "stream",
     "text": [
      "✅ All hard negative lists are clean. No overlap with relevant IDs.\n"
     ]
    }
   ],
   "source": [
    "import json\n",
    "\n",
    "file_path = \"data/bm25_sampling/bm25_with_scores_and_ranks_fr.jsonl\"\n",
    "\n",
    "violations = []\n",
    "\n",
    "with open(file_path, \"r\", encoding=\"utf-8\") as f:\n",
    "    for line in f:\n",
    "        entry = json.loads(line)\n",
    "        query_id = entry[\"query_id\"]\n",
    "        relevant_ids = set(str(id_) for id_ in entry[\"relevant_ids\"])\n",
    "        hard_neg_ids = set(doc[\"doc_id\"] for doc in entry[\"hard_negatives\"])\n",
    "\n",
    "        overlap = relevant_ids.intersection(hard_neg_ids)\n",
    "        if overlap:\n",
    "            violations.append({\n",
    "                \"query_id\": query_id,\n",
    "                \"overlap_ids\": list(overlap)\n",
    "            })\n",
    "\n",
    "# Report\n",
    "if violations:\n",
    "    print(f\"❌ Violations found in {len(violations)} queries.\")\n",
    "    for v in violations:\n",
    "        print(f\"Query {v['query_id']} has overlap: {v['overlap_ids']}\")\n",
    "else:\n",
    "    print(\"✅ All hard negative lists are clean. No overlap with relevant IDs.\")"
   ]
  },
  {
   "cell_type": "code",
   "execution_count": 14,
   "id": "6a8a22b0",
   "metadata": {},
   "outputs": [
    {
     "name": "stdout",
     "output_type": "stream",
     "text": [
      "✅ All hard negative lists are clean. No overlap with relevant IDs.\n"
     ]
    }
   ],
   "source": [
    "import json\n",
    "\n",
    "file_path = \"data/bm25_sampling/bm25_with_scores_and_ranks_nl.jsonl\"\n",
    "\n",
    "violations = []\n",
    "\n",
    "with open(file_path, \"r\", encoding=\"utf-8\") as f:\n",
    "    for line in f:\n",
    "        entry = json.loads(line)\n",
    "        query_id = entry[\"query_id\"]\n",
    "        relevant_ids = set(str(id_) for id_ in entry[\"relevant_ids\"])\n",
    "        hard_neg_ids = set(doc[\"doc_id\"] for doc in entry[\"hard_negatives\"])\n",
    "\n",
    "        overlap = relevant_ids.intersection(hard_neg_ids)\n",
    "        if overlap:\n",
    "            violations.append({\n",
    "                \"query_id\": query_id,\n",
    "                \"overlap_ids\": list(overlap)\n",
    "            })\n",
    "\n",
    "# Report\n",
    "if violations:\n",
    "    print(f\"❌ Violations found in {len(violations)} queries.\")\n",
    "    for v in violations:\n",
    "        print(f\"Query {v['query_id']} has overlap: {v['overlap_ids']}\")\n",
    "else:\n",
    "    print(\"✅ All hard negative lists are clean. No overlap with relevant IDs.\")"
   ]
  },
  {
   "cell_type": "code",
   "execution_count": 15,
   "id": "42778025",
   "metadata": {},
   "outputs": [
    {
     "name": "stdout",
     "output_type": "stream",
     "text": [
      "✅ Saved cleaned candidate list to data/bm25_sampling/candidate_articles_fr.jsonl\n"
     ]
    }
   ],
   "source": [
    "# NEW FILE JSON\n",
    "\n",
    "import json\n",
    "import os\n",
    "\n",
    "# Load BM25 JSONL file\n",
    "input_path = \"data/bm25_sampling/bm25_with_scores_and_ranks_fr.jsonl\"\n",
    "output_path = \"data/bm25_sampling/candidate_articles_fr.jsonl\"\n",
    "\n",
    "with open(input_path, \"r\", encoding=\"utf-8\") as infile, open(output_path, \"w\", encoding=\"utf-8\") as outfile:\n",
    "    for line in infile:\n",
    "        entry = json.loads(line)\n",
    "        query_id = entry[\"query_id\"]\n",
    "        query_text = entry[\"query_text\"]\n",
    "        relevant_ids = set(str(rid) for rid in entry[\"relevant_ids\"])\n",
    "\n",
    "        # Keep only candidate article IDs that are NOT relevant\n",
    "        candidate_ids = [doc[\"doc_id\"] for doc in entry[\"bm25_ranked_list\"] if doc[\"doc_id\"] not in relevant_ids]\n",
    "\n",
    "        # Limit to top 100 (if needed)\n",
    "        candidate_ids = candidate_ids[:100]\n",
    "\n",
    "        # Write cleaned entry\n",
    "        new_entry = {\n",
    "            \"query_id\": query_id,\n",
    "            \"query_text\": query_text,\n",
    "            \"candidate_ids\": candidate_ids\n",
    "        }\n",
    "        outfile.write(json.dumps(new_entry, ensure_ascii=False) + \"\\n\")\n",
    "\n",
    "print(f\"✅ Saved cleaned candidate list to {output_path}\")\n",
    "\n"
   ]
  }
 ],
 "metadata": {
  "kernelspec": {
   "display_name": "llm_legal_document_retrieval",
   "language": "python",
   "name": "python3"
  },
  "language_info": {
   "codemirror_mode": {
    "name": "ipython",
    "version": 3
   },
   "file_extension": ".py",
   "mimetype": "text/x-python",
   "name": "python",
   "nbconvert_exporter": "python",
   "pygments_lexer": "ipython3",
   "version": "3.10.16"
  }
 },
 "nbformat": 4,
 "nbformat_minor": 5
}
