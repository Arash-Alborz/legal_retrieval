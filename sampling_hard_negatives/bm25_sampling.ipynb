{
 "cells": [
  {
   "cell_type": "code",
   "execution_count": null,
   "id": "179e55fb",
   "metadata": {},
   "outputs": [
    {
     "name": "stdout",
     "output_type": "stream",
     "text": [
      "\n",
      "🔍 Processing language: FR\n"
     ]
    },
    {
     "name": "stderr",
     "output_type": "stream",
     "text": [
      "100%|██████████| 190/190 [00:12<00:00, 15.12it/s]\n"
     ]
    },
    {
     "name": "stdout",
     "output_type": "stream",
     "text": [
      "✅ BM25 sampling completed for FR and saved to data/bm25_sampling/bm25_with_scores_and_ranks_fr.jsonl\n",
      "\n",
      "🔍 Processing language: NL\n"
     ]
    },
    {
     "name": "stderr",
     "output_type": "stream",
     "text": [
      "100%|██████████| 190/190 [00:12<00:00, 15.42it/s]"
     ]
    },
    {
     "name": "stdout",
     "output_type": "stream",
     "text": [
      "✅ BM25 sampling completed for NL and saved to data/bm25_sampling/bm25_with_scores_and_ranks_nl.jsonl\n"
     ]
    },
    {
     "name": "stderr",
     "output_type": "stream",
     "text": [
      "\n"
     ]
    }
   ],
   "source": [
    "from datasets import load_from_disk\n",
    "from rank_bm25 import BM25Okapi\n",
    "from tqdm import tqdm\n",
    "import json\n",
    "import os\n",
    "from nltk.tokenize.toktok import ToktokTokenizer\n",
    "\n",
    "# Initialize tokenizer\n",
    "tokenizer = ToktokTokenizer()\n",
    "\n",
    "# Languages to process\n",
    "languages = [\"fr\", \"nl\"]\n",
    "\n",
    "for lang in languages:\n",
    "    print(f\"\\n🔍 Processing language: {lang.upper()}\")\n",
    "\n",
    "    # Load cleaned datasets\n",
    "    corpus = load_from_disk(\"../data_processing/data/cleaned_corpus_ds/cleaned_corpus\")[lang]\n",
    "    test_queries = load_from_disk(\"../data_processing/data/cleaned_queries_ds/cleaned_test_queries\")[lang]\n",
    "\n",
    "    # Prepare corpus documents and IDs\n",
    "    corpus_docs = [doc['article'] for doc in corpus]\n",
    "    corpus_ids = [str(doc['id']) for doc in corpus]\n",
    "\n",
    "    # Tokenize corpus\n",
    "    tokenized_corpus = [tokenizer.tokenize(doc.lower()) for doc in corpus_docs]\n",
    "    bm25 = BM25Okapi(tokenized_corpus)\n",
    "\n",
    "    # Prepare output\n",
    "    output = []\n",
    "\n",
    "    for query in tqdm(test_queries):\n",
    "        query_id = query['id']\n",
    "        query_text = query['question']\n",
    "\n",
    "        relevant_ids = set(str(id_.strip()) for id_ in query['article_ids'].split(\",\") if id_.strip())\n",
    "        num_relevant = len(relevant_ids)\n",
    "        num_negatives_needed = 100 - num_relevant\n",
    "\n",
    "        tokenized_query = tokenizer.tokenize(query_text.lower())\n",
    "        bm25_scores = bm25.get_scores(tokenized_query)\n",
    "\n",
    "        scored_docs = [\n",
    "            {\"doc_id\": corpus_ids[idx], \"score\": float(bm25_scores[idx]), \"rank\": None}\n",
    "            for idx in range(len(bm25_scores))\n",
    "        ]\n",
    "        scored_docs = sorted(scored_docs, key=lambda x: x[\"score\"], reverse=True)[:500]\n",
    "\n",
    "        for final_rank, doc in enumerate(scored_docs):\n",
    "            doc[\"rank\"] = final_rank + 1\n",
    "\n",
    "        hard_negatives = []\n",
    "        for doc in scored_docs:\n",
    "            if str(doc[\"doc_id\"]) not in relevant_ids:\n",
    "                hard_negatives.append(doc)\n",
    "            if len(hard_negatives) >= num_negatives_needed:\n",
    "                break\n",
    "\n",
    "        output.append({\n",
    "            \"query_id\": query_id,\n",
    "            \"query_text\": query_text,\n",
    "            \"relevant_ids\": list(relevant_ids),\n",
    "            \"bm25_ranked_list\": scored_docs,\n",
    "            \"hard_negatives\": hard_negatives\n",
    "        })\n",
    "\n",
    "    # Save JSONL output\n",
    "    os.makedirs(\"data/bm25_sampling\", exist_ok=True)\n",
    "    output_path = f\"data/bm25_sampling/bm25_with_scores_and_ranks_{lang}.jsonl\"\n",
    "    with open(output_path, \"w\", encoding=\"utf-8\") as f:\n",
    "        for entry in output:\n",
    "            f.write(json.dumps(entry, ensure_ascii=False) + \"\\n\")\n",
    "\n",
    "    print(f\"✅ BM25 sampling completed for {lang.upper()} and saved to {output_path}\")\n"
   ]
  },
  {
   "cell_type": "code",
   "execution_count": null,
   "id": "d027dde5",
   "metadata": {},
   "outputs": [
    {
     "name": "stderr",
     "output_type": "stream",
     "text": [
      "100%|██████████| 190/190 [00:14<00:00, 13.08it/s]\n"
     ]
    }
   ],
   "source": [
    "from datasets import load_from_disk\n",
    "\n",
    "\n",
    "\n",
    "#corpus_fr = corpus['fr']\n",
    "#test_fr = test['fr']\n",
    "\n",
    "\n",
    "### WITH SCORES AND RANKS FOR FRENCH\n",
    "\n",
    "from datasets import load_from_disk\n",
    "from rank_bm25 import BM25Okapi\n",
    "from tqdm import tqdm\n",
    "import json\n",
    "import os\n",
    "from nltk.tokenize.toktok import ToktokTokenizer\n",
    "\n",
    "# Initialize tokenizer\n",
    "tokenizer = ToktokTokenizer()\n",
    "\n",
    "# Load cleaned corpus and test queries (French as example)\n",
    "corpus = load_from_disk(\"../data_processing/data/cleaned_corpus_ds/cleaned_corpus\")['fr']\n",
    "test_queries = load_from_disk(\"../data_processing/data/cleaned_queries_ds/cleaned_test_queries\")['fr']\n",
    "\n",
    "# Prepare corpus documents and their IDs\n",
    "corpus_docs = [doc['article'] for doc in corpus]\n",
    "corpus_ids = [str(doc['id']) for doc in corpus]\n",
    "\n",
    "# Tokenize corpus with ToktokTokenizer\n",
    "tokenized_corpus = [tokenizer.tokenize(doc.lower()) for doc in corpus_docs]\n",
    "bm25 = BM25Okapi(tokenized_corpus)\n",
    "\n",
    "# Prepare output\n",
    "output = []\n",
    "\n",
    "for query in tqdm(test_queries):\n",
    "\n",
    "    query_id = query['id']\n",
    "    query_text = query['question']\n",
    "    \n",
    "    # Get relevant article IDs for this query\n",
    "    relevant_ids = [id_.strip() for id_ in query['article_ids'].split(\",\") if id_.strip() != \"\"]\n",
    "    num_relevant = len(relevant_ids)\n",
    "    \n",
    "    # Calculate how many negatives needed\n",
    "    num_negatives_needed = 100 - num_relevant\n",
    "    \n",
    "    # Tokenize query text using ToktokTokenizer\n",
    "    tokenized_query = tokenizer.tokenize(query_text.lower())\n",
    "\n",
    "    # BM25 scoring\n",
    "    bm25_scores = bm25.get_scores(tokenized_query)\n",
    "    \n",
    "    # Combine document ID, score and index\n",
    "    scored_docs = [\n",
    "        {\"doc_id\": corpus_ids[idx], \"score\": float(bm25_scores[idx]), \"rank\": None}\n",
    "        for idx in range(len(bm25_scores))\n",
    "    ]\n",
    "    \n",
    "    # Sort by score (high to low) → rank them properly\n",
    "    scored_docs = sorted(scored_docs, key=lambda x: x[\"score\"], reverse=True)[:200]\n",
    "    \n",
    "    # Add final rank after sorting (rank 0 = highest score)\n",
    "    for final_rank, doc in enumerate(scored_docs):\n",
    "        doc[\"rank\"] = final_rank + 1  # make ranks 1-based\n",
    "\n",
    "    # Select negatives (skip relevant ids)\n",
    "    hard_negatives = []\n",
    "    \n",
    "    for doc in scored_docs:\n",
    "        if doc[\"doc_id\"] not in relevant_ids:\n",
    "            hard_negatives.append(doc)\n",
    "        if len(hard_negatives) >= num_negatives_needed:\n",
    "            break\n",
    "\n",
    "    # Save full ranked list + hard negatives\n",
    "    output.append({\n",
    "        \"query_id\": query_id,\n",
    "        \"query_text\": query_text,\n",
    "        \"relevant_ids\": relevant_ids,\n",
    "        \"bm25_ranked_list\": scored_docs,  # FULL ranked list with doc_id, score, rank\n",
    "        \"hard_negatives\": hard_negatives  # selected hard negatives only\n",
    "    })\n",
    "\n",
    "# Save to JSONL\n",
    "os.makedirs(\"data/bm25_sampling\", exist_ok=True)\n",
    "output_path = \"data/bm25_sampling/bm25_with_scores_and_ranks_fr.jsonl\"\n",
    "\n",
    "with open(output_path, \"w\", encoding=\"utf-8\") as f:\n",
    "    for entry in output:\n",
    "        f.write(json.dumps(entry, ensure_ascii=False) + \"\\n\")\n",
    "\n",
    "#print(\"✅ BM25 sampling complete and saved (with scores and ranks).\")\n",
    "\n"
   ]
  }
 ],
 "metadata": {
  "kernelspec": {
   "display_name": "llm_legal_document_retrieval",
   "language": "python",
   "name": "python3"
  },
  "language_info": {
   "codemirror_mode": {
    "name": "ipython",
    "version": 3
   },
   "file_extension": ".py",
   "mimetype": "text/x-python",
   "name": "python",
   "nbconvert_exporter": "python",
   "pygments_lexer": "ipython3",
   "version": "3.10.16"
  }
 },
 "nbformat": 4,
 "nbformat_minor": 5
}
