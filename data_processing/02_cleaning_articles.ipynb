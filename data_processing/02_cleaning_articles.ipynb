{
 "cells": [
  {
   "cell_type": "markdown",
   "id": "bf9c0691",
   "metadata": {},
   "source": [
    "## LOADING THE DATA"
   ]
  },
  {
   "cell_type": "code",
   "execution_count": 47,
   "id": "1e508656",
   "metadata": {},
   "outputs": [],
   "source": [
    "from datasets import load_dataset\n",
    "import pandas as pd\n",
    "import matplotlib.pyplot as plt\n",
    "import seaborn as sns\n",
    "import os\n",
    "\n",
    "ds_corpus = load_dataset(\"clips/bBSARD\", \"corpus\")\n",
    "ds_test = load_dataset(\"clips/bBSARD\", \"test\")\n",
    "\n",
    "corpus_fr = ds_corpus['fr']\n",
    "test_fr = ds_test['fr']\n",
    "\n",
    "corpus_nl = ds_corpus['nl']\n",
    "test_nl = ds_test['nl']\n",
    "\n",
    "queries_fr = test_fr\n",
    "queries_nl = test_nl"
   ]
  },
  {
   "cell_type": "code",
   "execution_count": 4,
   "id": "98e37f1e",
   "metadata": {},
   "outputs": [
    {
     "data": {
      "text/plain": [
       "[\"Art. 265. Toute convention, écrite ou verbale portant sur une aliénation soumise au droit de préemption conformément à l'article 263 est irréfragablement réputée conclue sous condition suspensive de non-exercice du droit de préemption établi en vertu du présent Titre. . (579)\",\n",
       " \"Art. 266 § 1er. Toute personne physique ou morale, titulaire de droits réels sur tout ou partie d'immeubles bâtis ou non bâtis situés dans un périmètre de préemption qui a l'intention d'aliéner tout ou partie de ces droits réels immobiliers, a l'obligation d'en informer l'administration. Cette déclaration d'intention d'aliéner doit être effectuée dès la diffusion de l'offre d'aliéner, sur quelque support que ce soit. A défaut, le notaire ou l'agent immobilier au sens de l'arrêté royal du 6 septembre 1993 protégeant le titre professionnel et l'exercice de la profession d'agent immobilier, en ce compris les personnes visées à l'article 4 de cet arrêté, chargé de cette aliénation est soumis à la même obligation. Enfin, le notaire chargé de passer l'acte authentique doit vérifier si l'obligation de déclaration d'intention d'aliéner a été exécutée conformément à l'alinéa 1er. A défaut, il notifie à l'administration, au plus tard deux mois avant la passation de l'acte authentique, copie du compromis de vente ou du projet d'acte d'aliénation. Les informations qui doivent être jointes à la déclaration d'intention d'aliéner, au compromis de vente ou au projet d'acte d'aliénation doivent mentionner au minimum : 1° l'identité et le domicile du titulaire d'un droit réel immobilier; 2° l'adresse du bien immobilier dont l'aliénation est projetée; 3° la description du bien immobilier et notamment sa désignation cadastrale, la superficie de la parcelle, la superficie au sol du bâti, la superficie de plancher et le nombre de niveaux; 4° les autres droits réels et les droits personnels qui y sont attachés; 5° l'indication du prix et des conditions de l'aliénation projetée; 6° à défaut de prix, la valeur conventionnelle de la contre-prestation stipulée à charge de l'acquéreur du droit réel immobilier; 7° l'indication du droit, pour les titulaires du droit de préemption, de visiter le bien. Le Gouvernement peut arrêter le modèle de la déclaration d'intention d'aliéner. Il peut également compléter la liste des informations visée au présent alinéa § 2. L'administration dresse et tient à jour un inventaire des propriétés incluses dans les périmètres de préemption. Les notaires ont l'obligation de s'y référer pour la préparation de leurs actes. Le Gouvernement arrête la forme de l'inventaire et les modalités de sa publication. Les communes préciseront dans les informations qu'elles communiquent dans le cadre de l'article 275 du présent Code l'existence d'un périmètre de préemption pour le bien dont les renseignements sont demandés § 3 Dans les huit jours de la notification effectuée en application de l'article article 266, § 1er, l'administration délivre au notaire un accusé de réception, si le dossier est complet, et en communique simultanément copie aux titulaires du droit de préemption dans le périmètre soumis au droit de préemption. A défaut de dossier complet, l'administration en informe, dans le même délai, le cédant, l'agent immobilier ou le notaire en indiquant les éléments manquants. Dans les huit jours de la réception des éléments manquants, l'administration délivre l'accusé de réception et communique simultanément copie du dossier complet aux titulaires du droit de préemption dans le périmètre soumis au droit de préemption. A défaut d'accusé de réception ou de notification du caractère incomplet du dossier dans les délais susmentionnés, le dossier est présumé complet et il ne peut plus être fait grief au cédant , à l'agent immobilier ou au notaire du caractère incomplet du dossier. (581)\",\n",
       " \"Art. 267.Chacun des titulaires du droit de préemption adresse au cédant et à l'administration et au plus tard dans les deux mois de l'envoi de la notification visée à l'article 266, § 1er d'un dossier complet ou présumé tel, un document faisant apparaître : 1. soit sa décision de renonciation à exercer son droit de préemption aux prix et conditions mentionnés dans le dossier; 2. soit sa décision d'exercer son droit aux prix et conditions mentionnés dans le dossier. L'absence de notification d'un titulaire du droit de préemption dans le délai équivaut à la renonciation à l'exercice du droit de préemption. Dans le cas où l'exercice du droit de préemption porte sur un immeuble bâti ou non bâti qui fait l'objet d'un apport en société, le pouvoir préemptant se libère valablement par le versement d'un prix en argent, correspondant au prix ou à la valeur du bien tel que mentionné dans la déclaration d'intention d'aliéner, le compromis de vente ou le projet d'acte d'aliénation, conformément à l'article 266, § 1er, alinéa 4, 5° et 6° (583)\",\n",
       " \"Art. 268.§ 1er. Lorsqu'un ou plusieurs des titulaires du droit de préemption exercent leur droit de préemption dans le délai légal, l'administration notifie, dans les huit jours de l'expiration du délai, au notaire, au cédant et aux différents titulaires du droit de préemption ayant exercé leur droit de préemption, l'identité du pouvoir préemptant prioritaire. L'acceptation par le pouvoir préemptant prioritaire des prix et conditions mentionnées dans le compromis ou l'acte sous seing privé vaut aliénation. L'acte authentique est dressé dans un délai de quatre mois à compter de l'aliénation. Le transfert de propriété du bien , l'aliénation du droit réel portant sur le bien et le payement du prix n'ont lieu qu'à la signature de l'acte authentique. § 2. Lorsque qu'aucun des titulaires du droit de préemption n'a manifesté son intention d'exercer son droit de préemption dans le délai légal, l'administration en informe le cédant. Le cédant dispose librement de son bien ou de son droit réel pour autant, d'une part, qu'aucune des informations minimales jointes à la déclaration d'intention d'aliéner, au compromis de vente ou au projet d'acte d'aliénation initialement notifiées en vertu de l'article 266, § 1er, n'ait été modifiée ou n'ait été modifiée sur un autre point substantiel, et d'autre part, que l'acte authentique ait été passé et notifié par le notaire à l'administration dans un délai de deux ans à compter de l'information donnée au cédant par l'administration de la renonciation au droit de préemption. A cet effet, le notaire informe dans les huit jours l'administration de toute modification des conditions de l'aliénation initialement notifiée sous peine d'une amende administrative à fixer conformément au Chapitre V du Titre X du présent Code. Dans le cas où l'une ou l'autre de ces conditions n'est pas rencontrée, le bien est à nouveau soumis au droit de préemption conformément au présent titre. L'administration en informe les titulaires du droit de préemption concernés par le bien. La procédure est poursuivie conformément aux articles 267 et 268, § 1er (585)\",\n",
       " \"Art. 269.§ 1er. En cas d'adjudication publique, le notaire instrumentant notifie a l'administration, au plus tard un mois avant la première séance, le cahier des charges de la vente publique. Dans les huit jours de la notification, l'administration notifie le cahier des charges aux titulaires du droit de préemption avec mention de la date de la première séance à laquelle les titulaires du droit de préemption sont invités à se rendre. Le notaire et l'administration sont dispensés de ces formalités, lorsque l'arrêté fixant le périmètre soumis au droit de préemption entre en vigueur dans le mois qui précède la première séance. § 2. Le notaire instrumentant procède aux enchères et demande publiquement, à la fin des enchères et avant l'adjudication, si un des titulaires du droit de préemption entend exercer son droit au prix de la dernière enchère. En cas de revente par suite de l'exercice du droit de surenchère, la même question doit être posée publiquement à la séance de surenchère. Le bien ou le droit réel portant sur ce bien est adjugé au titulaire du droit de préemption le mieux placé en ordre de priorité qui déclare exercer son droit de préemption au prix de la dernière enchère ou surenchère. § 3. Le titulaire du droit de préemption qui ne déclare pas, lors de la séance de vente publique, vouloir exercer son droit est présumé y renoncer. En cas de renonciation, la vente se poursuit conformément aux règles relatives aux adjudications publiques. (587)\",\n",
       " \"Art. 270. Les pouvoirs préemptants auxquels est reconnu le pouvoir d'exproprier en vue de la réalisation de leur mission et désignés dans l'arrêté établissant le périmètre soumis au droit de préemption peuvent procéder à l'expropriation des immeubles repris dans ce périmètre pour les causes d'utilité publique qui en ont justifié l'adoption. sans qu'il soit requis que la procédure d'expropriation ait dû être précédée d'une procédure de préemption mise en oeuvre en vertu du présent titre(589)\",\n",
       " \"Art. 271. Pour le calcul de la valeur de l'immeuble exproprié, il n'est pas tenu compte de : -la plus-value ou de la moins-value qui résulte d'une ou plusieurs interventions d'utilité publique qui ont justifié l'instauration du périmètre soumis au droit de préemption concerné; - l'augmentation de valeur acquise par ce bien en suite de travaux de modifications effectués en infraction aux dispositions légales et réglementaires en matière d'urbanisme. (591)\",\n",
       " \"Art. 272. Le pouvoir préemptant qui a initié la procédure d'expropriation visée à l'article 270 est habilité à la poursuivre au-delà de la date à laquelle l'arrêté instaurant le périmètre soumis au droit de préemption cesse de produire ses effets. L'expropriation est en exécution de la loi du 26 juillet 1962 relative à la procédure d'extrême urgence en matière d'expropriation pour cause d'utilité publique (593)\",\n",
       " \"Art. 273.Les notifications, déclarations d'intention d'aliéner, demandes, offres et décisions des titulaires du droit de préemption, de l'administration, des cédants , des agents immobiliers et notaires effectuées ou prises en exécution du présent Titre sont notifiées, à peine de nullité, par lettre recommandée à la poste avec accusé de réception. En dérogation à l'alinéa 1er, les notifications adressées par l'administration aux titulaires du droit de préemption en application des articles 266, § 3, alinéas 1er et 2, et 269, § 1er, alinéa 2, peuvent être effectuées selon d'autres formes de communication, notamment par voie électronique, conformément à l'ordonnance du 13 février 2014 relative à la communication par voie électronique dans le cadre des relations avec les autorités publiques de la Région de Bruxelles-Capitale\",\n",
       " \"Art. 274 § 1er. La réalisation d'une aliénation en violation du droit de préemption d'un pouvoir préemptant ouvre le droit à une action en subrogation au profit de chaque titulaire lésé du droit de préemption. En cas de concours entre plusieurs titulaires du droit de préemption, la préférence est toujours donnée au pouvoir préemptant prioritaire, dans l'ordre visé à l'article 262, alinéa 2. A cet effet, pour que son action soit recevable, le titulaire du droit de préemption qui introduit l'action doit apporter la preuve de ce que le(s) pouvoir(s) préemptant(s) prioritaire(s) a (ont) renoncé au bénéfice de l'action en subrogation. L'action est intentée à la fois contre le cédant et contre l'acquéreur. La demande n'est reçue qu'après que l'exploit introductif d'instance a été transcrit à l'Administration Générale de la Documentation Patrimoniale, à la diligence de l'huissier auteur de l'exploit. Le subrogé n'est tenu des obligations résultant pour l'acquéreur de l'acte authentique d'aliénation et des charges consenties par l'acquéreur que pour autant que ces dernières aient été transcrites antérieurement à l'action en subrogation. Si le juge reçoit l'action en subrogation, le jugement vaut titre. Tout jugement relatif à une demande de subrogation est transcrit à l'Administration Générale de la Documentation Patrimoniale en marge de la transcription de l'action. Le pouvoir préemptant subrogé rembourse à l'acquéreur le prix payé par lui. Dans le cas où l'immeuble bâti ou non bâti fait l'objet d'un apport en société, le pouvoir préemptant rembourse à la société à qui le bien a été apporté un prix payable en argent correspondant au prix ou à la valeur du bien tel que mentionné dans la déclaration d'intention d'aliéner, le compromis ou le projet d'acte d'aliénation, conformément à l'article 266, § 1er, alinéa 4, 5° et 6°. Le cédant est tenu d'indemniser l'acquéreur pour les frais de l'acte. Les droits d'enregistrement sont restitués à la demande de l'acquéreur par l'administration fiscale en charge de la perception de ces droits. § 2. L'action en subrogation se prescrit par un an à partir de la date de la transcription, soit du procès-verbal de l'adjudication publique, soit de la notification de l'acte authentique constatant l'aliénation sous seing privé, opérée conformément à l'article 268, § 2, alinéa 1er\"]"
      ]
     },
     "execution_count": 4,
     "metadata": {},
     "output_type": "execute_result"
    }
   ],
   "source": [
    "corpus_fr[500:510]['article']"
   ]
  },
  {
   "cell_type": "markdown",
   "id": "de2016b8",
   "metadata": {},
   "source": [
    "## MAKING CSV / LOADING long_article_ids.json"
   ]
  },
  {
   "cell_type": "code",
   "execution_count": 48,
   "id": "22131c74",
   "metadata": {},
   "outputs": [],
   "source": [
    "import json\n",
    "\n",
    "with open(\"long_article_ids.json\", \"r\", encoding=\"utf-8\") as f:\n",
    "    long_article_ids = json.load(f)"
   ]
  },
  {
   "cell_type": "code",
   "execution_count": 49,
   "id": "21d0f5bd",
   "metadata": {},
   "outputs": [
    {
     "name": "stdout",
     "output_type": "stream",
     "text": [
      "Original datasets saved as CSV.\n"
     ]
    }
   ],
   "source": [
    "ds_corpus = load_dataset(\"clips/bBSARD\", \"corpus\")\n",
    "ds_test = load_dataset(\"clips/bBSARD\", \"test\")\n",
    "\n",
    "corpus_fr = ds_corpus['fr']\n",
    "corpus_nl = ds_corpus['nl']\n",
    "\n",
    "test_fr = ds_test['fr']\n",
    "test_nl = ds_test['nl']\n",
    "\n",
    "df_corpus_fr = pd.DataFrame(corpus_fr)\n",
    "df_corpus_nl = pd.DataFrame(corpus_nl)\n",
    "\n",
    "df_test_fr = pd.DataFrame(test_fr)\n",
    "df_test_nl = pd.DataFrame(test_nl)\n",
    "\n",
    "os.makedirs(\"data/original_csv\", exist_ok=True)\n",
    "\n",
    "df_corpus_fr.to_csv(\"data/original_csv/corpus_fr.csv\", index=False)\n",
    "df_corpus_nl.to_csv(\"data/original_csv/corpus_nl.csv\", index=False)\n",
    "\n",
    "df_test_fr.to_csv(\"data/original_csv/test_fr.csv\", index=False)\n",
    "df_test_nl.to_csv(\"data/original_csv/test_nl.csv\", index=False)\n",
    "\n",
    "print(\"Original datasets saved as CSV.\")"
   ]
  },
  {
   "cell_type": "code",
   "execution_count": null,
   "id": "a0bc44e1",
   "metadata": {},
   "outputs": [
    {
     "name": "stderr",
     "output_type": "stream",
     "text": [
      "Saving the dataset (1/1 shards): 100%|██████████| 22033/22033 [00:00<00:00, 2711095.14 examples/s]\n",
      "Saving the dataset (1/1 shards): 100%|██████████| 22033/22033 [00:00<00:00, 3119429.54 examples/s]"
     ]
    },
    {
     "name": "stdout",
     "output_type": "stream",
     "text": [
      "✅ Both French and Dutch corpus cleaned and saved in CSV and HuggingFace formats.\n"
     ]
    },
    {
     "name": "stderr",
     "output_type": "stream",
     "text": [
      "\n"
     ]
    }
   ],
   "source": [
    "# French and Dutch corpus cleaning script (combined version with separate blocks)\n",
    "import re\n",
    "import os\n",
    "import json\n",
    "import pandas as pd\n",
    "from datasets import load_dataset, Dataset\n",
    "\n",
    "# === Load original corpus ===\n",
    "ds_corpus = load_dataset(\"clips/bBSARD\", \"corpus\")\n",
    "corpus_fr = ds_corpus[\"fr\"]\n",
    "corpus_nl = ds_corpus[\"nl\"]\n",
    "\n",
    "# === Load long article IDs ===\n",
    "with open(\"long_article_ids.json\", \"r\", encoding=\"utf-8\") as f:\n",
    "    long_article_ids = set(str(id).strip() for id in json.load(f))\n",
    "\n",
    "# === French Cleaning ===\n",
    "def clean_article_start_fr(text):\n",
    "    text = re.sub(r\"[\\(\\[]\\s*(ancien article|ancien art|erronément intitulé art\\.?)\\s*\\d+[^\\]\\)]*[\\)\\]]\", \" \", text, flags=re.IGNORECASE)\n",
    "    text = re.sub(r\"^(Art\\.?|Article|ANNEXE|DROIT FUTUR|Antérieurement|Voir note sous TITRE|ancien article|Infraction à l'article)\\s*\", \"\", text, flags=re.IGNORECASE)\n",
    "    text = re.sub(r\"^\\d+[^\\w]*\\s*\", \"\", text)\n",
    "    forbidden_words = [\"Art\", \"Article\", \"ANNEXE\", \"DROIT FUTUR\", \"Antérieurement\", \"Voir note sous TITRE\", \"ancien article\", \"Infraction à l'article\"]\n",
    "    for match in re.finditer(r\"[A-Z]\", text):\n",
    "        start_index = match.start()\n",
    "        window_start = max(0, start_index - 10)\n",
    "        window_text = text[window_start:start_index + 10]\n",
    "        if any(forbidden.lower() in window_text.lower() for forbidden in forbidden_words):\n",
    "            continue\n",
    "        next_chars = text[start_index+1:start_index+3]\n",
    "        if not re.match(r\"[\\s*'a-zA-Z]{1,2}\", next_chars):\n",
    "            continue\n",
    "        return text[start_index:].strip()\n",
    "    return text.strip()\n",
    "\n",
    "cleaned_fr = []\n",
    "original_and_cleaned_fr = []\n",
    "for entry in corpus_fr:\n",
    "    if str(entry[\"id\"]) in long_article_ids:\n",
    "        continue\n",
    "    cleaned_text = clean_article_start_fr(entry[\"article\"])\n",
    "    cleaned_entry = {\"id\": entry[\"id\"], \"reference\": entry[\"reference\"], \"article\": cleaned_text}\n",
    "    cleaned_fr.append(cleaned_entry)\n",
    "    original_and_cleaned_fr.append({\"id\": entry[\"id\"], \"reference\": entry[\"reference\"], \"article\": entry[\"article\"], \"article_cleaned\": cleaned_text})\n",
    "\n",
    "# === Dutch Cleaning ===\n",
    "def clean_article_start_nl(text):\n",
    "    text = re.sub(r\"^(Art\\.?|Artikel|ANNEXE|DROIT FUTUR|Antérieurement|Voir note sous TITRE|BIJLAGE|Inbreuk op artikel|Voorheen)\\s*\", \"\", text, flags=re.IGNORECASE)\n",
    "    text = re.sub(r\"^\\d+[^\\w]*\\s*\", \"\", text)\n",
    "    forbidden_words = [\"Art\", \"Artikel\", \"ANNEXE\", \"DROIT FUTUR\", \"Antérieurement\", \"Voir note sous TITRE\", \"BIJLAGE\", \"Inbreuk op artikel\", \"Voorheen\"]\n",
    "    for match in re.finditer(r\"[A-Z]\", text):\n",
    "        start_index = match.start()\n",
    "        window_start = max(0, start_index - 10)\n",
    "        window_text = text[window_start:start_index + 10]\n",
    "        if any(forbidden.lower() in window_text.lower() for forbidden in forbidden_words):\n",
    "            continue\n",
    "        next_chars = text[start_index+1:start_index+3]\n",
    "        if not re.match(r\"[\\s*'a-zA-Z]{1,2}\", next_chars):\n",
    "            continue\n",
    "        return text[start_index:].strip()\n",
    "    return text.strip()\n",
    "\n",
    "cleaned_nl = []\n",
    "original_and_cleaned_nl = []\n",
    "for entry in corpus_nl:\n",
    "    if str(entry[\"id\"]) in long_article_ids:\n",
    "        continue\n",
    "    cleaned_text = clean_article_start_nl(entry[\"article\"])\n",
    "    cleaned_entry = {\"id\": entry[\"id\"], \"reference\": entry[\"reference\"], \"article\": cleaned_text}\n",
    "    cleaned_nl.append(cleaned_entry)\n",
    "    original_and_cleaned_nl.append({\"id\": entry[\"id\"], \"reference\": entry[\"reference\"], \"article\": entry[\"article\"], \"article_cleaned\": cleaned_text})\n",
    "\n",
    "# === Save all outputs ===\n",
    "os.makedirs(\"data/cleaned_corpus\", exist_ok=True)\n",
    "os.makedirs(\"data/original_cleaned_mix_corpus\", exist_ok=True)\n",
    "os.makedirs(\"data/cleaned_corpus_ds\", exist_ok=True)\n",
    "\n",
    "# CSVs\n",
    "pd.DataFrame(cleaned_fr).to_csv(\"data/cleaned_corpus/corpus_fr_cleaned.csv\", index=False)\n",
    "pd.DataFrame(original_and_cleaned_fr).to_csv(\"data/original_cleaned_mix_corpus/original_cleaned_mix_fr_corpus.csv\", index=False)\n",
    "\n",
    "pd.DataFrame(cleaned_nl).to_csv(\"data/cleaned_corpus/corpus_nl_cleaned.csv\", index=False)\n",
    "pd.DataFrame(original_and_cleaned_nl).to_csv(\"data/original_cleaned_mix_corpus/original_cleaned_mix_nl_corpus.csv\", index=False)\n",
    "\n",
    "# datasets.arrows\n",
    "from datasets import DatasetDict\n",
    "\n",
    "ds_corpus_cleaned = DatasetDict({\n",
    "    \"fr\": Dataset.from_list(cleaned_fr),\n",
    "    \"nl\": Dataset.from_list(cleaned_nl)\n",
    "})\n",
    "\n",
    "ds_corpus_cleaned.save_to_disk(\"data/cleaned_corpus_ds/cleaned_corpus\")\n",
    "\n",
    "print(\"✅ Both French and Dutch corpus cleaned and saved in CSV and HuggingFace formats.\")\n"
   ]
  },
  {
   "cell_type": "markdown",
   "id": "c37c1578",
   "metadata": {},
   "source": [
    "## CHECKING THE CLEANING PROCESS for articles (based on length difference between original and cleaned article)"
   ]
  },
  {
   "cell_type": "code",
   "execution_count": null,
   "id": "1ac6629c",
   "metadata": {},
   "outputs": [
    {
     "name": "stdout",
     "output_type": "stream",
     "text": [
      "Saved 169 cases where cleaning removed more than 100 characters.\n",
      "Saved to data/original_cleaned_mix_corpus/cleaning_difference_check_fr.csv\n"
     ]
    }
   ],
   "source": [
    "# French articles \n",
    "import pandas as pd\n",
    "import os\n",
    "\n",
    "input_csv = \"data/original_cleaned_mix_corpus/original_cleaned_mix_fr_corpus.csv\" \n",
    "output_csv = \"data/original_cleaned_mix_corpus/cleaning_difference_check_fr.csv\"\n",
    "threshold = 100 \n",
    "\n",
    "df = pd.read_csv(input_csv)\n",
    "\n",
    "# lengths of articles (char_count)\n",
    "df[\"original_length\"] = df[\"article\"].str.len()\n",
    "df[\"cleaned_length\"] = df[\"article_cleaned\"].str.len()\n",
    "\n",
    "# length difference between original and cleaned article\n",
    "df[\"length_diff\"] = df[\"original_length\"] - df[\"cleaned_length\"]\n",
    "\n",
    "# filtering where length diff. bigger than threshold\n",
    "df_filtered = df[df[\"length_diff\"] > threshold][[\"id\", \"article\", \"article_cleaned\", \"original_length\", \"cleaned_length\", \"length_diff\"]]\n",
    "\n",
    "df_filtered.to_csv(output_csv, index=False)\n",
    "\n",
    "print(f\"Saved {len(df_filtered)} cases where cleaning removed more than {threshold} characters.\")\n",
    "print(f\"Saved to {output_csv}\")"
   ]
  },
  {
   "cell_type": "code",
   "execution_count": null,
   "id": "0fab7718",
   "metadata": {},
   "outputs": [
    {
     "name": "stdout",
     "output_type": "stream",
     "text": [
      "Saved 181 cases where cleaning removed more than 100 characters.\n",
      "Saved to data/original_cleaned_mix_corpus/cleaning_difference_check_nl.csv\n"
     ]
    }
   ],
   "source": [
    "# Dutch articles\n",
    "import pandas as pd\n",
    "import os\n",
    "\n",
    "input_csv = \"data/original_cleaned_mix_corpus/original_cleaned_mix_nl_corpus.csv\"  \n",
    "output_csv = \"data/original_cleaned_mix_corpus/cleaning_difference_check_nl.csv\"\n",
    "threshold = 100 \n",
    "\n",
    "df = pd.read_csv(input_csv)\n",
    "\n",
    "# lengths of articles (char_count)\n",
    "df[\"original_length\"] = df[\"article\"].str.len()\n",
    "df[\"cleaned_length\"] = df[\"article_cleaned\"].str.len()\n",
    "\n",
    "# length difference between original and cleaned article\n",
    "df[\"length_diff\"] = df[\"original_length\"] - df[\"cleaned_length\"]\n",
    "\n",
    "# filtering where length diff. bigger than threshold\n",
    "df_filtered = df[df[\"length_diff\"] > threshold][[\"id\", \"article\", \"article_cleaned\", \"original_length\", \"cleaned_length\", \"length_diff\"]]\n",
    "\n",
    "df_filtered.to_csv(output_csv, index=False)\n",
    "\n",
    "print(f\"Saved {len(df_filtered)} cases where cleaning removed more than {threshold} characters.\")\n",
    "print(f\"Saved to {output_csv}\")"
   ]
  },
  {
   "cell_type": "markdown",
   "id": "560a5f68",
   "metadata": {},
   "source": [
    "## Checking the size of cleaned files"
   ]
  },
  {
   "cell_type": "code",
   "execution_count": 82,
   "id": "6aa64a83",
   "metadata": {},
   "outputs": [
    {
     "name": "stdout",
     "output_type": "stream",
     "text": [
      "DatasetDict({\n",
      "    fr: Dataset({\n",
      "        features: ['id', 'reference', 'article'],\n",
      "        num_rows: 22033\n",
      "    })\n",
      "    nl: Dataset({\n",
      "        features: ['id', 'reference', 'article'],\n",
      "        num_rows: 22033\n",
      "    })\n",
      "})\n",
      "{'id': 1, 'reference': \"Art. 1.1.1 Code Bruxellois de l'Air, du Climat et de la Maîtrise de l'Energie (Livre 1er, Titre 1er)\", 'article': \"Le présent Code règle une matière visée à l'article 39 de la Constitution.\"}\n"
     ]
    }
   ],
   "source": [
    "from datasets import load_from_disk\n",
    "ds = load_from_disk(\"data/cleaned_corpus_ds/cleaned_corpus\")\n",
    "print(ds)\n",
    "print(ds[\"fr\"][0])"
   ]
  },
  {
   "cell_type": "code",
   "execution_count": 68,
   "id": "048c3ab9",
   "metadata": {},
   "outputs": [
    {
     "name": "stdout",
     "output_type": "stream",
     "text": [
      "(22033, 3)\n",
      "(22033, 3)\n"
     ]
    }
   ],
   "source": [
    "import pandas as pd\n",
    "\n",
    "cor_fr = pd.read_csv('data/cleaned_corpus/corpus_fr_cleaned.csv')\n",
    "cor_nl = pd.read_csv('data/cleaned_corpus/corpus_nl_cleaned.csv')\n",
    "\n",
    "print(cor_fr.shape) \n",
    "print(cor_nl.shape)\n"
   ]
  }
 ],
 "metadata": {
  "kernelspec": {
   "display_name": "llm_legal_document_retrieval",
   "language": "python",
   "name": "python3"
  },
  "language_info": {
   "codemirror_mode": {
    "name": "ipython",
    "version": 3
   },
   "file_extension": ".py",
   "mimetype": "text/x-python",
   "name": "python",
   "nbconvert_exporter": "python",
   "pygments_lexer": "ipython3",
   "version": "3.10.16"
  }
 },
 "nbformat": 4,
 "nbformat_minor": 5
}
